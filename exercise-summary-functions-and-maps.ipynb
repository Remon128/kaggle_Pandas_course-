{
 "cells": [
  {
   "cell_type": "markdown",
   "id": "150645fe",
   "metadata": {
    "papermill": {
     "duration": 0.02944,
     "end_time": "2022-02-13T15:01:51.496343",
     "exception": false,
     "start_time": "2022-02-13T15:01:51.466903",
     "status": "completed"
    },
    "tags": []
   },
   "source": [
    "**This notebook is an exercise in the [Pandas](https://www.kaggle.com/learn/pandas) course.  You can reference the tutorial at [this link](https://www.kaggle.com/residentmario/summary-functions-and-maps).**\n",
    "\n",
    "---\n"
   ]
  },
  {
   "cell_type": "markdown",
   "id": "2edd1f48",
   "metadata": {
    "papermill": {
     "duration": 0.028647,
     "end_time": "2022-02-13T15:01:51.553421",
     "exception": false,
     "start_time": "2022-02-13T15:01:51.524774",
     "status": "completed"
    },
    "tags": []
   },
   "source": [
    "# Introduction\n",
    "\n",
    "Now you are ready to get a deeper understanding of your data.\n",
    "\n",
    "Run the following cell to load your data and some utility functions (including code to check your answers)."
   ]
  },
  {
   "cell_type": "code",
   "execution_count": 1,
   "id": "c362bb87",
   "metadata": {
    "execution": {
     "iopub.execute_input": "2022-02-13T15:01:51.614963Z",
     "iopub.status.busy": "2022-02-13T15:01:51.613756Z",
     "iopub.status.idle": "2022-02-13T15:01:59.693539Z",
     "shell.execute_reply": "2022-02-13T15:01:59.694077Z",
     "shell.execute_reply.started": "2022-02-13T13:24:02.194142Z"
    },
    "papermill": {
     "duration": 8.112684,
     "end_time": "2022-02-13T15:01:59.694423",
     "exception": false,
     "start_time": "2022-02-13T15:01:51.581739",
     "status": "completed"
    },
    "tags": []
   },
   "outputs": [
    {
     "name": "stdout",
     "output_type": "stream",
     "text": [
      "Setup complete.\n"
     ]
    },
    {
     "data": {
      "text/html": [
       "<div>\n",
       "<style scoped>\n",
       "    .dataframe tbody tr th:only-of-type {\n",
       "        vertical-align: middle;\n",
       "    }\n",
       "\n",
       "    .dataframe tbody tr th {\n",
       "        vertical-align: top;\n",
       "    }\n",
       "\n",
       "    .dataframe thead th {\n",
       "        text-align: right;\n",
       "    }\n",
       "</style>\n",
       "<table border=\"1\" class=\"dataframe\">\n",
       "  <thead>\n",
       "    <tr style=\"text-align: right;\">\n",
       "      <th></th>\n",
       "      <th>country</th>\n",
       "      <th>description</th>\n",
       "      <th>designation</th>\n",
       "      <th>points</th>\n",
       "      <th>price</th>\n",
       "      <th>province</th>\n",
       "      <th>region_1</th>\n",
       "      <th>region_2</th>\n",
       "      <th>taster_name</th>\n",
       "      <th>taster_twitter_handle</th>\n",
       "      <th>title</th>\n",
       "      <th>variety</th>\n",
       "      <th>winery</th>\n",
       "    </tr>\n",
       "  </thead>\n",
       "  <tbody>\n",
       "    <tr>\n",
       "      <th>0</th>\n",
       "      <td>Italy</td>\n",
       "      <td>Aromas include tropical fruit, broom, brimston...</td>\n",
       "      <td>Vulkà Bianco</td>\n",
       "      <td>87</td>\n",
       "      <td>NaN</td>\n",
       "      <td>Sicily &amp; Sardinia</td>\n",
       "      <td>Etna</td>\n",
       "      <td>NaN</td>\n",
       "      <td>Kerin O’Keefe</td>\n",
       "      <td>@kerinokeefe</td>\n",
       "      <td>Nicosia 2013 Vulkà Bianco  (Etna)</td>\n",
       "      <td>White Blend</td>\n",
       "      <td>Nicosia</td>\n",
       "    </tr>\n",
       "    <tr>\n",
       "      <th>1</th>\n",
       "      <td>Portugal</td>\n",
       "      <td>This is ripe and fruity, a wine that is smooth...</td>\n",
       "      <td>Avidagos</td>\n",
       "      <td>87</td>\n",
       "      <td>15.0</td>\n",
       "      <td>Douro</td>\n",
       "      <td>NaN</td>\n",
       "      <td>NaN</td>\n",
       "      <td>Roger Voss</td>\n",
       "      <td>@vossroger</td>\n",
       "      <td>Quinta dos Avidagos 2011 Avidagos Red (Douro)</td>\n",
       "      <td>Portuguese Red</td>\n",
       "      <td>Quinta dos Avidagos</td>\n",
       "    </tr>\n",
       "    <tr>\n",
       "      <th>2</th>\n",
       "      <td>US</td>\n",
       "      <td>Tart and snappy, the flavors of lime flesh and...</td>\n",
       "      <td>NaN</td>\n",
       "      <td>87</td>\n",
       "      <td>14.0</td>\n",
       "      <td>Oregon</td>\n",
       "      <td>Willamette Valley</td>\n",
       "      <td>Willamette Valley</td>\n",
       "      <td>Paul Gregutt</td>\n",
       "      <td>@paulgwine</td>\n",
       "      <td>Rainstorm 2013 Pinot Gris (Willamette Valley)</td>\n",
       "      <td>Pinot Gris</td>\n",
       "      <td>Rainstorm</td>\n",
       "    </tr>\n",
       "    <tr>\n",
       "      <th>3</th>\n",
       "      <td>US</td>\n",
       "      <td>Pineapple rind, lemon pith and orange blossom ...</td>\n",
       "      <td>Reserve Late Harvest</td>\n",
       "      <td>87</td>\n",
       "      <td>13.0</td>\n",
       "      <td>Michigan</td>\n",
       "      <td>Lake Michigan Shore</td>\n",
       "      <td>NaN</td>\n",
       "      <td>Alexander Peartree</td>\n",
       "      <td>NaN</td>\n",
       "      <td>St. Julian 2013 Reserve Late Harvest Riesling ...</td>\n",
       "      <td>Riesling</td>\n",
       "      <td>St. Julian</td>\n",
       "    </tr>\n",
       "    <tr>\n",
       "      <th>4</th>\n",
       "      <td>US</td>\n",
       "      <td>Much like the regular bottling from 2012, this...</td>\n",
       "      <td>Vintner's Reserve Wild Child Block</td>\n",
       "      <td>87</td>\n",
       "      <td>65.0</td>\n",
       "      <td>Oregon</td>\n",
       "      <td>Willamette Valley</td>\n",
       "      <td>Willamette Valley</td>\n",
       "      <td>Paul Gregutt</td>\n",
       "      <td>@paulgwine</td>\n",
       "      <td>Sweet Cheeks 2012 Vintner's Reserve Wild Child...</td>\n",
       "      <td>Pinot Noir</td>\n",
       "      <td>Sweet Cheeks</td>\n",
       "    </tr>\n",
       "  </tbody>\n",
       "</table>\n",
       "</div>"
      ],
      "text/plain": [
       "    country                                        description  \\\n",
       "0     Italy  Aromas include tropical fruit, broom, brimston...   \n",
       "1  Portugal  This is ripe and fruity, a wine that is smooth...   \n",
       "2        US  Tart and snappy, the flavors of lime flesh and...   \n",
       "3        US  Pineapple rind, lemon pith and orange blossom ...   \n",
       "4        US  Much like the regular bottling from 2012, this...   \n",
       "\n",
       "                          designation  points  price           province  \\\n",
       "0                        Vulkà Bianco      87    NaN  Sicily & Sardinia   \n",
       "1                            Avidagos      87   15.0              Douro   \n",
       "2                                 NaN      87   14.0             Oregon   \n",
       "3                Reserve Late Harvest      87   13.0           Michigan   \n",
       "4  Vintner's Reserve Wild Child Block      87   65.0             Oregon   \n",
       "\n",
       "              region_1           region_2         taster_name  \\\n",
       "0                 Etna                NaN       Kerin O’Keefe   \n",
       "1                  NaN                NaN          Roger Voss   \n",
       "2    Willamette Valley  Willamette Valley        Paul Gregutt   \n",
       "3  Lake Michigan Shore                NaN  Alexander Peartree   \n",
       "4    Willamette Valley  Willamette Valley        Paul Gregutt   \n",
       "\n",
       "  taster_twitter_handle                                              title  \\\n",
       "0          @kerinokeefe                  Nicosia 2013 Vulkà Bianco  (Etna)   \n",
       "1            @vossroger      Quinta dos Avidagos 2011 Avidagos Red (Douro)   \n",
       "2           @paulgwine       Rainstorm 2013 Pinot Gris (Willamette Valley)   \n",
       "3                   NaN  St. Julian 2013 Reserve Late Harvest Riesling ...   \n",
       "4           @paulgwine   Sweet Cheeks 2012 Vintner's Reserve Wild Child...   \n",
       "\n",
       "          variety               winery  \n",
       "0     White Blend              Nicosia  \n",
       "1  Portuguese Red  Quinta dos Avidagos  \n",
       "2      Pinot Gris            Rainstorm  \n",
       "3        Riesling           St. Julian  \n",
       "4      Pinot Noir         Sweet Cheeks  "
      ]
     },
     "execution_count": 1,
     "metadata": {},
     "output_type": "execute_result"
    }
   ],
   "source": [
    "import pandas as pd\n",
    "pd.set_option(\"display.max_rows\", 5)\n",
    "reviews = pd.read_csv(\"../input/wine-reviews/winemag-data-130k-v2.csv\", index_col=0)\n",
    "\n",
    "from learntools.core import binder; binder.bind(globals())\n",
    "from learntools.pandas.summary_functions_and_maps import *\n",
    "print(\"Setup complete.\")\n",
    "\n",
    "reviews.head()"
   ]
  },
  {
   "cell_type": "markdown",
   "id": "2c66114c",
   "metadata": {
    "papermill": {
     "duration": 0.028567,
     "end_time": "2022-02-13T15:01:59.752307",
     "exception": false,
     "start_time": "2022-02-13T15:01:59.723740",
     "status": "completed"
    },
    "tags": []
   },
   "source": [
    "# Exercises"
   ]
  },
  {
   "cell_type": "markdown",
   "id": "8f8d3dc8",
   "metadata": {
    "papermill": {
     "duration": 0.028156,
     "end_time": "2022-02-13T15:01:59.808974",
     "exception": false,
     "start_time": "2022-02-13T15:01:59.780818",
     "status": "completed"
    },
    "tags": []
   },
   "source": [
    "## 1.\n",
    "\n",
    "What is the median of the `points` column in the `reviews` DataFrame?"
   ]
  },
  {
   "cell_type": "code",
   "execution_count": 2,
   "id": "7d3f28fa",
   "metadata": {
    "execution": {
     "iopub.execute_input": "2022-02-13T15:01:59.869921Z",
     "iopub.status.busy": "2022-02-13T15:01:59.868951Z",
     "iopub.status.idle": "2022-02-13T15:01:59.884749Z",
     "shell.execute_reply": "2022-02-13T15:01:59.884154Z",
     "shell.execute_reply.started": "2022-02-13T13:33:50.920027Z"
    },
    "papermill": {
     "duration": 0.04727,
     "end_time": "2022-02-13T15:01:59.884907",
     "exception": false,
     "start_time": "2022-02-13T15:01:59.837637",
     "status": "completed"
    },
    "tags": []
   },
   "outputs": [
    {
     "data": {
      "text/plain": [
       "count    129971.000000\n",
       "mean         88.447138\n",
       "             ...      \n",
       "75%          91.000000\n",
       "max         100.000000\n",
       "Name: points, Length: 8, dtype: float64"
      ]
     },
     "execution_count": 2,
     "metadata": {},
     "output_type": "execute_result"
    }
   ],
   "source": [
    "reviews.points.describe()"
   ]
  },
  {
   "cell_type": "code",
   "execution_count": 3,
   "id": "28a4c8a3",
   "metadata": {
    "execution": {
     "iopub.execute_input": "2022-02-13T15:01:59.950328Z",
     "iopub.status.busy": "2022-02-13T15:01:59.949260Z",
     "iopub.status.idle": "2022-02-13T15:01:59.959145Z",
     "shell.execute_reply": "2022-02-13T15:01:59.958514Z",
     "shell.execute_reply.started": "2022-02-13T13:32:54.791568Z"
    },
    "papermill": {
     "duration": 0.044501,
     "end_time": "2022-02-13T15:01:59.959346",
     "exception": false,
     "start_time": "2022-02-13T15:01:59.914845",
     "status": "completed"
    },
    "tags": []
   },
   "outputs": [
    {
     "data": {
      "application/javascript": [
       "parent.postMessage({\"jupyterEvent\": \"custom.exercise_interaction\", \"data\": {\"outcomeType\": 1, \"valueTowardsCompletion\": 0.14285714285714285, \"interactionType\": 1, \"questionType\": 1, \"questionId\": \"1_MedianPoints\", \"learnToolsVersion\": \"0.3.4\", \"failureMessage\": \"\", \"exceptionClass\": \"\", \"trace\": \"\"}}, \"*\")"
      ],
      "text/plain": [
       "<IPython.core.display.Javascript object>"
      ]
     },
     "metadata": {},
     "output_type": "display_data"
    },
    {
     "data": {
      "text/markdown": [
       "<span style=\"color:#33cc33\">Correct</span>"
      ],
      "text/plain": [
       "Correct"
      ]
     },
     "metadata": {},
     "output_type": "display_data"
    }
   ],
   "source": [
    "median_points = reviews.points.median()\n",
    "\n",
    "# Check your answer\n",
    "q1.check()"
   ]
  },
  {
   "cell_type": "code",
   "execution_count": 4,
   "id": "d7d2d99c",
   "metadata": {
    "execution": {
     "iopub.execute_input": "2022-02-13T15:02:00.030663Z",
     "iopub.status.busy": "2022-02-13T15:02:00.029914Z",
     "iopub.status.idle": "2022-02-13T15:02:00.032538Z",
     "shell.execute_reply": "2022-02-13T15:02:00.033048Z"
    },
    "papermill": {
     "duration": 0.041814,
     "end_time": "2022-02-13T15:02:00.033243",
     "exception": false,
     "start_time": "2022-02-13T15:01:59.991429",
     "status": "completed"
    },
    "tags": []
   },
   "outputs": [],
   "source": [
    "#q1.hint()\n",
    "#q1.solution()"
   ]
  },
  {
   "cell_type": "markdown",
   "id": "479b5ada",
   "metadata": {
    "papermill": {
     "duration": 0.031497,
     "end_time": "2022-02-13T15:02:00.095862",
     "exception": false,
     "start_time": "2022-02-13T15:02:00.064365",
     "status": "completed"
    },
    "tags": []
   },
   "source": [
    "## 2. \n",
    "What countries are represented in the dataset? (Your answer should not include any duplicates.)"
   ]
  },
  {
   "cell_type": "code",
   "execution_count": 5,
   "id": "a6ce019d",
   "metadata": {
    "execution": {
     "iopub.execute_input": "2022-02-13T15:02:00.163671Z",
     "iopub.status.busy": "2022-02-13T15:02:00.162819Z",
     "iopub.status.idle": "2022-02-13T15:02:00.184284Z",
     "shell.execute_reply": "2022-02-13T15:02:00.184756Z",
     "shell.execute_reply.started": "2022-02-13T13:35:20.609728Z"
    },
    "papermill": {
     "duration": 0.056276,
     "end_time": "2022-02-13T15:02:00.184962",
     "exception": false,
     "start_time": "2022-02-13T15:02:00.128686",
     "status": "completed"
    },
    "tags": []
   },
   "outputs": [
    {
     "data": {
      "application/javascript": [
       "parent.postMessage({\"jupyterEvent\": \"custom.exercise_interaction\", \"data\": {\"outcomeType\": 1, \"valueTowardsCompletion\": 0.14285714285714285, \"interactionType\": 1, \"questionType\": 2, \"questionId\": \"2_UniqueCountries\", \"learnToolsVersion\": \"0.3.4\", \"failureMessage\": \"\", \"exceptionClass\": \"\", \"trace\": \"\"}}, \"*\")"
      ],
      "text/plain": [
       "<IPython.core.display.Javascript object>"
      ]
     },
     "metadata": {},
     "output_type": "display_data"
    },
    {
     "data": {
      "text/markdown": [
       "<span style=\"color:#33cc33\">Correct</span>"
      ],
      "text/plain": [
       "Correct"
      ]
     },
     "metadata": {},
     "output_type": "display_data"
    }
   ],
   "source": [
    "countries = reviews.country.unique()\n",
    "\n",
    "# Check your answer\n",
    "q2.check()"
   ]
  },
  {
   "cell_type": "code",
   "execution_count": 6,
   "id": "f18e4fae",
   "metadata": {
    "execution": {
     "iopub.execute_input": "2022-02-13T15:02:00.256157Z",
     "iopub.status.busy": "2022-02-13T15:02:00.254975Z",
     "iopub.status.idle": "2022-02-13T15:02:00.283955Z",
     "shell.execute_reply": "2022-02-13T15:02:00.284552Z",
     "shell.execute_reply.started": "2022-02-13T13:37:45.631301Z"
    },
    "papermill": {
     "duration": 0.066437,
     "end_time": "2022-02-13T15:02:00.284807",
     "exception": false,
     "start_time": "2022-02-13T15:02:00.218370",
     "status": "completed"
    },
    "tags": []
   },
   "outputs": [
    {
     "data": {
      "text/plain": [
       "US        54504\n",
       "France    22093\n",
       "          ...  \n",
       "China         1\n",
       "Egypt         1\n",
       "Name: country, Length: 43, dtype: int64"
      ]
     },
     "execution_count": 6,
     "metadata": {},
     "output_type": "execute_result"
    }
   ],
   "source": [
    "#q2.hint()\n",
    "#q2.solution()\n",
    "reviews.country.value_counts()"
   ]
  },
  {
   "cell_type": "markdown",
   "id": "39fa1715",
   "metadata": {
    "papermill": {
     "duration": 0.034463,
     "end_time": "2022-02-13T15:02:00.355235",
     "exception": false,
     "start_time": "2022-02-13T15:02:00.320772",
     "status": "completed"
    },
    "tags": []
   },
   "source": [
    "## 3.\n",
    "How often does each country appear in the dataset? Create a Series `reviews_per_country` mapping countries to the count of reviews of wines from that country."
   ]
  },
  {
   "cell_type": "code",
   "execution_count": 7,
   "id": "f34714ef",
   "metadata": {
    "execution": {
     "iopub.execute_input": "2022-02-13T15:02:00.424072Z",
     "iopub.status.busy": "2022-02-13T15:02:00.423417Z",
     "iopub.status.idle": "2022-02-13T15:02:00.453129Z",
     "shell.execute_reply": "2022-02-13T15:02:00.453768Z",
     "shell.execute_reply.started": "2022-02-13T13:36:42.859383Z"
    },
    "papermill": {
     "duration": 0.066816,
     "end_time": "2022-02-13T15:02:00.453937",
     "exception": false,
     "start_time": "2022-02-13T15:02:00.387121",
     "status": "completed"
    },
    "tags": []
   },
   "outputs": [
    {
     "data": {
      "application/javascript": [
       "parent.postMessage({\"jupyterEvent\": \"custom.exercise_interaction\", \"data\": {\"outcomeType\": 1, \"valueTowardsCompletion\": 0.14285714285714285, \"interactionType\": 1, \"questionType\": 1, \"questionId\": \"3_ReviewsPerCountry\", \"learnToolsVersion\": \"0.3.4\", \"failureMessage\": \"\", \"exceptionClass\": \"\", \"trace\": \"\"}}, \"*\")"
      ],
      "text/plain": [
       "<IPython.core.display.Javascript object>"
      ]
     },
     "metadata": {},
     "output_type": "display_data"
    },
    {
     "data": {
      "text/markdown": [
       "<span style=\"color:#33cc33\">Correct</span>"
      ],
      "text/plain": [
       "Correct"
      ]
     },
     "metadata": {},
     "output_type": "display_data"
    }
   ],
   "source": [
    "reviews_per_country = reviews.country.value_counts()\n",
    "\n",
    "# Check your answer\n",
    "q3.check()"
   ]
  },
  {
   "cell_type": "code",
   "execution_count": 8,
   "id": "c3944872",
   "metadata": {
    "execution": {
     "iopub.execute_input": "2022-02-13T15:02:00.524231Z",
     "iopub.status.busy": "2022-02-13T15:02:00.523560Z",
     "iopub.status.idle": "2022-02-13T15:02:00.530506Z",
     "shell.execute_reply": "2022-02-13T15:02:00.531024Z",
     "shell.execute_reply.started": "2022-02-13T13:37:07.832642Z"
    },
    "papermill": {
     "duration": 0.04418,
     "end_time": "2022-02-13T15:02:00.531223",
     "exception": false,
     "start_time": "2022-02-13T15:02:00.487043",
     "status": "completed"
    },
    "tags": []
   },
   "outputs": [
    {
     "data": {
      "application/javascript": [
       "parent.postMessage({\"jupyterEvent\": \"custom.exercise_interaction\", \"data\": {\"interactionType\": 3, \"questionType\": 1, \"questionId\": \"3_ReviewsPerCountry\", \"learnToolsVersion\": \"0.3.4\", \"valueTowardsCompletion\": 0.0, \"failureMessage\": \"\", \"exceptionClass\": \"\", \"trace\": \"\", \"outcomeType\": 4}}, \"*\")"
      ],
      "text/plain": [
       "<IPython.core.display.Javascript object>"
      ]
     },
     "metadata": {},
     "output_type": "display_data"
    },
    {
     "data": {
      "text/markdown": [
       "<span style=\"color:#33cc99\">Solution:</span> \n",
       "```python\n",
       "reviews_per_country = reviews.country.value_counts()\n",
       "```"
      ],
      "text/plain": [
       "Solution: \n",
       "```python\n",
       "reviews_per_country = reviews.country.value_counts()\n",
       "```"
      ]
     },
     "metadata": {},
     "output_type": "display_data"
    }
   ],
   "source": [
    "#q3.hint()\n",
    "q3.solution()\n"
   ]
  },
  {
   "cell_type": "markdown",
   "id": "448979ec",
   "metadata": {
    "papermill": {
     "duration": 0.038678,
     "end_time": "2022-02-13T15:02:00.607716",
     "exception": false,
     "start_time": "2022-02-13T15:02:00.569038",
     "status": "completed"
    },
    "tags": []
   },
   "source": [
    "## 4.\n",
    "Create variable `centered_price` containing a version of the `price` column with the mean price subtracted.\n",
    "\n",
    "(Note: this 'centering' transformation is a common preprocessing step before applying various machine learning algorithms.) "
   ]
  },
  {
   "cell_type": "code",
   "execution_count": 9,
   "id": "d85af994",
   "metadata": {
    "execution": {
     "iopub.execute_input": "2022-02-13T15:02:00.686605Z",
     "iopub.status.busy": "2022-02-13T15:02:00.685944Z",
     "iopub.status.idle": "2022-02-13T15:02:00.747305Z",
     "shell.execute_reply": "2022-02-13T15:02:00.747961Z",
     "shell.execute_reply.started": "2022-02-13T14:00:11.403530Z"
    },
    "papermill": {
     "duration": 0.102086,
     "end_time": "2022-02-13T15:02:00.748192",
     "exception": false,
     "start_time": "2022-02-13T15:02:00.646106",
     "status": "completed"
    },
    "tags": []
   },
   "outputs": [
    {
     "data": {
      "text/plain": [
       "0        -1.447138\n",
       "1        -1.447138\n",
       "            ...   \n",
       "129969    1.552862\n",
       "129970    1.552862\n",
       "Name: points, Length: 129971, dtype: float64"
      ]
     },
     "execution_count": 9,
     "metadata": {},
     "output_type": "execute_result"
    }
   ],
   "source": [
    "review_points_mean = reviews.points.mean()\n",
    "reviews.points.map(lambda p: p - review_points_mean)"
   ]
  },
  {
   "cell_type": "code",
   "execution_count": 10,
   "id": "ff8d0c3b",
   "metadata": {
    "execution": {
     "iopub.execute_input": "2022-02-13T15:02:00.830676Z",
     "iopub.status.busy": "2022-02-13T15:02:00.828651Z",
     "iopub.status.idle": "2022-02-13T15:02:00.837583Z",
     "shell.execute_reply": "2022-02-13T15:02:00.838223Z",
     "shell.execute_reply.started": "2022-02-13T14:01:17.466854Z"
    },
    "papermill": {
     "duration": 0.051513,
     "end_time": "2022-02-13T15:02:00.838454",
     "exception": false,
     "start_time": "2022-02-13T15:02:00.786941",
     "status": "completed"
    },
    "tags": []
   },
   "outputs": [
    {
     "data": {
      "application/javascript": [
       "parent.postMessage({\"jupyterEvent\": \"custom.exercise_interaction\", \"data\": {\"outcomeType\": 1, \"valueTowardsCompletion\": 0.14285714285714285, \"interactionType\": 1, \"questionType\": 1, \"questionId\": \"4_CenteredPrice\", \"learnToolsVersion\": \"0.3.4\", \"failureMessage\": \"\", \"exceptionClass\": \"\", \"trace\": \"\"}}, \"*\")"
      ],
      "text/plain": [
       "<IPython.core.display.Javascript object>"
      ]
     },
     "metadata": {},
     "output_type": "display_data"
    },
    {
     "data": {
      "text/markdown": [
       "<span style=\"color:#33cc33\">Correct</span>"
      ],
      "text/plain": [
       "Correct"
      ]
     },
     "metadata": {},
     "output_type": "display_data"
    }
   ],
   "source": [
    "centered_price = reviews.price - reviews.price.mean()\n",
    "\n",
    "# Check your answer\n",
    "q4.check()"
   ]
  },
  {
   "cell_type": "code",
   "execution_count": 11,
   "id": "86caf353",
   "metadata": {
    "execution": {
     "iopub.execute_input": "2022-02-13T15:02:00.920970Z",
     "iopub.status.busy": "2022-02-13T15:02:00.920123Z",
     "iopub.status.idle": "2022-02-13T15:02:00.929790Z",
     "shell.execute_reply": "2022-02-13T15:02:00.930395Z",
     "shell.execute_reply.started": "2022-02-13T13:44:23.614350Z"
    },
    "papermill": {
     "duration": 0.05212,
     "end_time": "2022-02-13T15:02:00.930626",
     "exception": false,
     "start_time": "2022-02-13T15:02:00.878506",
     "status": "completed"
    },
    "tags": []
   },
   "outputs": [
    {
     "data": {
      "application/javascript": [
       "parent.postMessage({\"jupyterEvent\": \"custom.exercise_interaction\", \"data\": {\"interactionType\": 2, \"questionType\": 1, \"questionId\": \"4_CenteredPrice\", \"learnToolsVersion\": \"0.3.4\", \"valueTowardsCompletion\": 0.0, \"failureMessage\": \"\", \"exceptionClass\": \"\", \"trace\": \"\", \"outcomeType\": 4}}, \"*\")"
      ],
      "text/plain": [
       "<IPython.core.display.Javascript object>"
      ]
     },
     "metadata": {},
     "output_type": "display_data"
    },
    {
     "data": {
      "text/markdown": [
       "<span style=\"color:#3366cc\">Hint:</span> To get the mean of a column in a Pandas DataFrame, use the `mean` function."
      ],
      "text/plain": [
       "Hint: To get the mean of a column in a Pandas DataFrame, use the `mean` function."
      ]
     },
     "metadata": {},
     "output_type": "display_data"
    },
    {
     "data": {
      "application/javascript": [
       "parent.postMessage({\"jupyterEvent\": \"custom.exercise_interaction\", \"data\": {\"interactionType\": 3, \"questionType\": 1, \"questionId\": \"4_CenteredPrice\", \"learnToolsVersion\": \"0.3.4\", \"valueTowardsCompletion\": 0.0, \"failureMessage\": \"\", \"exceptionClass\": \"\", \"trace\": \"\", \"outcomeType\": 4}}, \"*\")"
      ],
      "text/plain": [
       "<IPython.core.display.Javascript object>"
      ]
     },
     "metadata": {},
     "output_type": "display_data"
    },
    {
     "data": {
      "text/markdown": [
       "<span style=\"color:#33cc99\">Solution:</span> \n",
       "```python\n",
       "centered_price = reviews.price - reviews.price.mean()\n",
       "```"
      ],
      "text/plain": [
       "Solution: \n",
       "```python\n",
       "centered_price = reviews.price - reviews.price.mean()\n",
       "```"
      ]
     },
     "metadata": {},
     "output_type": "display_data"
    }
   ],
   "source": [
    "q4.hint()\n",
    "q4.solution()"
   ]
  },
  {
   "cell_type": "markdown",
   "id": "459ecdb9",
   "metadata": {
    "papermill": {
     "duration": 0.03927,
     "end_time": "2022-02-13T15:02:01.009671",
     "exception": false,
     "start_time": "2022-02-13T15:02:00.970401",
     "status": "completed"
    },
    "tags": []
   },
   "source": [
    "## 5.\n",
    "I'm an economical wine buyer. Which wine is the \"best bargain\"? Create a variable `bargain_wine` with the title of the wine with the highest points-to-price ratio in the dataset."
   ]
  },
  {
   "cell_type": "code",
   "execution_count": 12,
   "id": "8cd23351",
   "metadata": {
    "execution": {
     "iopub.execute_input": "2022-02-13T15:02:01.095485Z",
     "iopub.status.busy": "2022-02-13T15:02:01.093211Z",
     "iopub.status.idle": "2022-02-13T15:02:01.102600Z",
     "shell.execute_reply": "2022-02-13T15:02:01.103234Z",
     "shell.execute_reply.started": "2022-02-13T14:07:53.446082Z"
    },
    "papermill": {
     "duration": 0.053869,
     "end_time": "2022-02-13T15:02:01.103458",
     "exception": false,
     "start_time": "2022-02-13T15:02:01.049589",
     "status": "completed"
    },
    "tags": []
   },
   "outputs": [
    {
     "data": {
      "text/plain": [
       "0    64590\n",
       "dtype: int64"
      ]
     },
     "execution_count": 12,
     "metadata": {},
     "output_type": "execute_result"
    }
   ],
   "source": [
    "pd.DataFrame(reviews.points / reviews.price).idxmax()"
   ]
  },
  {
   "cell_type": "code",
   "execution_count": 13,
   "id": "a52cc063",
   "metadata": {
    "execution": {
     "iopub.execute_input": "2022-02-13T15:02:01.193965Z",
     "iopub.status.busy": "2022-02-13T15:02:01.193074Z",
     "iopub.status.idle": "2022-02-13T15:02:01.204778Z",
     "shell.execute_reply": "2022-02-13T15:02:01.204138Z",
     "shell.execute_reply.started": "2022-02-13T14:06:14.251845Z"
    },
    "papermill": {
     "duration": 0.059716,
     "end_time": "2022-02-13T15:02:01.204972",
     "exception": false,
     "start_time": "2022-02-13T15:02:01.145256",
     "status": "completed"
    },
    "tags": []
   },
   "outputs": [
    {
     "data": {
      "application/javascript": [
       "parent.postMessage({\"jupyterEvent\": \"custom.exercise_interaction\", \"data\": {\"outcomeType\": 1, \"valueTowardsCompletion\": 0.14285714285714285, \"interactionType\": 1, \"questionType\": 2, \"questionId\": \"5_BargainWine\", \"learnToolsVersion\": \"0.3.4\", \"failureMessage\": \"\", \"exceptionClass\": \"\", \"trace\": \"\"}}, \"*\")"
      ],
      "text/plain": [
       "<IPython.core.display.Javascript object>"
      ]
     },
     "metadata": {},
     "output_type": "display_data"
    },
    {
     "data": {
      "text/markdown": [
       "<span style=\"color:#33cc33\">Correct</span>"
      ],
      "text/plain": [
       "Correct"
      ]
     },
     "metadata": {},
     "output_type": "display_data"
    }
   ],
   "source": [
    "bargain_idx = (reviews.points / reviews.price).idxmax()\n",
    "bargain_wine = reviews.loc[bargain_idx, 'title']\n",
    "\n",
    "# Check your answer\n",
    "q5.check()"
   ]
  },
  {
   "cell_type": "code",
   "execution_count": 14,
   "id": "892f64d8",
   "metadata": {
    "execution": {
     "iopub.execute_input": "2022-02-13T15:02:01.298233Z",
     "iopub.status.busy": "2022-02-13T15:02:01.297201Z",
     "iopub.status.idle": "2022-02-13T15:02:01.302550Z",
     "shell.execute_reply": "2022-02-13T15:02:01.303133Z",
     "shell.execute_reply.started": "2022-02-13T14:01:28.417969Z"
    },
    "papermill": {
     "duration": 0.054843,
     "end_time": "2022-02-13T15:02:01.303325",
     "exception": false,
     "start_time": "2022-02-13T15:02:01.248482",
     "status": "completed"
    },
    "tags": []
   },
   "outputs": [
    {
     "data": {
      "application/javascript": [
       "parent.postMessage({\"jupyterEvent\": \"custom.exercise_interaction\", \"data\": {\"interactionType\": 3, \"questionType\": 2, \"questionId\": \"5_BargainWine\", \"learnToolsVersion\": \"0.3.4\", \"valueTowardsCompletion\": 0.0, \"failureMessage\": \"\", \"exceptionClass\": \"\", \"trace\": \"\", \"outcomeType\": 4}}, \"*\")"
      ],
      "text/plain": [
       "<IPython.core.display.Javascript object>"
      ]
     },
     "metadata": {},
     "output_type": "display_data"
    },
    {
     "data": {
      "text/markdown": [
       "<span style=\"color:#33cc99\">Solution:</span> \n",
       "```python\n",
       "bargain_idx = (reviews.points / reviews.price).idxmax()\n",
       "bargain_wine = reviews.loc[bargain_idx, 'title']\n",
       "```"
      ],
      "text/plain": [
       "Solution: \n",
       "```python\n",
       "bargain_idx = (reviews.points / reviews.price).idxmax()\n",
       "bargain_wine = reviews.loc[bargain_idx, 'title']\n",
       "```"
      ]
     },
     "metadata": {},
     "output_type": "display_data"
    }
   ],
   "source": [
    "#q5.hint()\n",
    "q5.solution()"
   ]
  },
  {
   "cell_type": "markdown",
   "id": "ee0f32e6",
   "metadata": {
    "papermill": {
     "duration": 0.043776,
     "end_time": "2022-02-13T15:02:01.390537",
     "exception": false,
     "start_time": "2022-02-13T15:02:01.346761",
     "status": "completed"
    },
    "tags": []
   },
   "source": [
    "## 6.\n",
    "There are only so many words you can use when describing a bottle of wine. Is a wine more likely to be \"tropical\" or \"fruity\"? Create a Series `descriptor_counts` counting how many times each of these two words appears in the `description` column in the dataset. (For simplicity, let's ignore the capitalized versions of these words.)"
   ]
  },
  {
   "cell_type": "code",
   "execution_count": 15,
   "id": "d0a4b966",
   "metadata": {
    "execution": {
     "iopub.execute_input": "2022-02-13T15:02:01.486987Z",
     "iopub.status.busy": "2022-02-13T15:02:01.486323Z",
     "iopub.status.idle": "2022-02-13T15:02:01.656294Z",
     "shell.execute_reply": "2022-02-13T15:02:01.655584Z",
     "shell.execute_reply.started": "2022-02-13T14:31:20.624663Z"
    },
    "papermill": {
     "duration": 0.221825,
     "end_time": "2022-02-13T15:02:01.656480",
     "exception": false,
     "start_time": "2022-02-13T15:02:01.434655",
     "status": "completed"
    },
    "tags": []
   },
   "outputs": [],
   "source": [
    "n_trop = reviews.description.map(lambda desc: \"tropical\" in desc).sum()\n",
    "n_fruity = reviews.description.map(lambda desc: \"fruity\" in desc).sum()\n",
    "descriptor_counts = pd.Series([n_trop, n_fruity], index = [\"tropical\", \"fruity\"])\n"
   ]
  },
  {
   "cell_type": "code",
   "execution_count": 16,
   "id": "cdf60edf",
   "metadata": {
    "execution": {
     "iopub.execute_input": "2022-02-13T15:02:01.755331Z",
     "iopub.status.busy": "2022-02-13T15:02:01.754360Z",
     "iopub.status.idle": "2022-02-13T15:02:01.910876Z",
     "shell.execute_reply": "2022-02-13T15:02:01.911369Z",
     "shell.execute_reply.started": "2022-02-13T14:31:43.255824Z"
    },
    "papermill": {
     "duration": 0.210271,
     "end_time": "2022-02-13T15:02:01.911587",
     "exception": false,
     "start_time": "2022-02-13T15:02:01.701316",
     "status": "completed"
    },
    "tags": []
   },
   "outputs": [
    {
     "data": {
      "application/javascript": [
       "parent.postMessage({\"jupyterEvent\": \"custom.exercise_interaction\", \"data\": {\"outcomeType\": 1, \"valueTowardsCompletion\": 0.14285714285714285, \"interactionType\": 1, \"questionType\": 1, \"questionId\": \"6_DescriptorCounts\", \"learnToolsVersion\": \"0.3.4\", \"failureMessage\": \"\", \"exceptionClass\": \"\", \"trace\": \"\"}}, \"*\")"
      ],
      "text/plain": [
       "<IPython.core.display.Javascript object>"
      ]
     },
     "metadata": {},
     "output_type": "display_data"
    },
    {
     "data": {
      "text/markdown": [
       "<span style=\"color:#33cc33\">Correct</span>"
      ],
      "text/plain": [
       "Correct"
      ]
     },
     "metadata": {},
     "output_type": "display_data"
    }
   ],
   "source": [
    "n_trop = reviews.description.map(lambda desc: \"tropical\" in desc).sum()\n",
    "n_fruity = reviews.description.map(lambda desc: \"fruity\" in desc).sum()\n",
    "descriptor_counts = pd.Series([n_trop, n_fruity], index = [\"tropical\", \"fruity\"])\n",
    "\n",
    "# Check your answer\n",
    "q6.check()"
   ]
  },
  {
   "cell_type": "code",
   "execution_count": 17,
   "id": "4bdea08b",
   "metadata": {
    "execution": {
     "iopub.execute_input": "2022-02-13T15:02:02.013587Z",
     "iopub.status.busy": "2022-02-13T15:02:02.012386Z",
     "iopub.status.idle": "2022-02-13T15:02:02.014454Z",
     "shell.execute_reply": "2022-02-13T15:02:02.015115Z",
     "shell.execute_reply.started": "2022-02-13T14:31:49.165581Z"
    },
    "papermill": {
     "duration": 0.055581,
     "end_time": "2022-02-13T15:02:02.015319",
     "exception": false,
     "start_time": "2022-02-13T15:02:01.959738",
     "status": "completed"
    },
    "tags": []
   },
   "outputs": [],
   "source": [
    "#q6.hint()\n",
    "#q6.solution()"
   ]
  },
  {
   "cell_type": "markdown",
   "id": "a671cade",
   "metadata": {
    "papermill": {
     "duration": 0.04527,
     "end_time": "2022-02-13T15:02:02.107224",
     "exception": false,
     "start_time": "2022-02-13T15:02:02.061954",
     "status": "completed"
    },
    "tags": []
   },
   "source": [
    "## 7.\n",
    "We'd like to host these wine reviews on our website, but a rating system ranging from 80 to 100 points is too hard to understand - we'd like to translate them into simple star ratings. A score of 95 or higher counts as 3 stars, a score of at least 85 but less than 95 is 2 stars. Any other score is 1 star.\n",
    "\n",
    "Also, the Canadian Vintners Association bought a lot of ads on the site, so any wines from Canada should automatically get 3 stars, regardless of points.\n",
    "\n",
    "Create a series `star_ratings` with the number of stars corresponding to each review in the dataset."
   ]
  },
  {
   "cell_type": "code",
   "execution_count": 18,
   "id": "fad07bee",
   "metadata": {
    "execution": {
     "iopub.execute_input": "2022-02-13T15:02:02.203261Z",
     "iopub.status.busy": "2022-02-13T15:02:02.202254Z",
     "iopub.status.idle": "2022-02-13T15:02:07.199478Z",
     "shell.execute_reply": "2022-02-13T15:02:07.198841Z",
     "shell.execute_reply.started": "2022-02-13T14:59:47.659654Z"
    },
    "papermill": {
     "duration": 5.046145,
     "end_time": "2022-02-13T15:02:07.199644",
     "exception": false,
     "start_time": "2022-02-13T15:02:02.153499",
     "status": "completed"
    },
    "tags": []
   },
   "outputs": [
    {
     "data": {
      "text/plain": [
       "0         2\n",
       "1         2\n",
       "         ..\n",
       "129969    2\n",
       "129970    2\n",
       "Length: 129971, dtype: int64"
      ]
     },
     "execution_count": 18,
     "metadata": {},
     "output_type": "execute_result"
    }
   ],
   "source": [
    "def star_ratings(row):\n",
    "    if(row.points >= 95):\n",
    "        return 3\n",
    "    elif(row.country == \"Canada\"):\n",
    "        return 3\n",
    "    elif(row.points >= 85):\n",
    "        return 2\n",
    "    else:\n",
    "        return 1\n",
    "    \n",
    "reviews.apply(star_ratings, axis='columns')"
   ]
  },
  {
   "cell_type": "code",
   "execution_count": 19,
   "id": "37c648fd",
   "metadata": {
    "execution": {
     "iopub.execute_input": "2022-02-13T15:02:07.296312Z",
     "iopub.status.busy": "2022-02-13T15:02:07.295547Z",
     "iopub.status.idle": "2022-02-13T15:02:12.145946Z",
     "shell.execute_reply": "2022-02-13T15:02:12.145416Z",
     "shell.execute_reply.started": "2022-02-13T14:57:48.882149Z"
    },
    "papermill": {
     "duration": 4.902278,
     "end_time": "2022-02-13T15:02:12.146128",
     "exception": false,
     "start_time": "2022-02-13T15:02:07.243850",
     "status": "completed"
    },
    "tags": []
   },
   "outputs": [
    {
     "data": {
      "application/javascript": [
       "parent.postMessage({\"jupyterEvent\": \"custom.exercise_interaction\", \"data\": {\"outcomeType\": 1, \"valueTowardsCompletion\": 0.14285714285714285, \"interactionType\": 1, \"questionType\": 1, \"questionId\": \"7_StarRatings\", \"learnToolsVersion\": \"0.3.4\", \"failureMessage\": \"\", \"exceptionClass\": \"\", \"trace\": \"\"}}, \"*\")"
      ],
      "text/plain": [
       "<IPython.core.display.Javascript object>"
      ]
     },
     "metadata": {},
     "output_type": "display_data"
    },
    {
     "data": {
      "text/markdown": [
       "<span style=\"color:#33cc33\">Correct</span>"
      ],
      "text/plain": [
       "Correct"
      ]
     },
     "metadata": {},
     "output_type": "display_data"
    }
   ],
   "source": [
    "def star_ratings(row):\n",
    "    if(row.points >= 95):\n",
    "        return 3\n",
    "    elif(row.country == \"Canada\"):\n",
    "        return 3\n",
    "    elif(row.points >= 85):\n",
    "        return 2\n",
    "    else:\n",
    "        return 1\n",
    "\n",
    "star_ratings = reviews.apply(star_ratings, axis='columns')\n",
    "\n",
    "# Check your answer\n",
    "q7.check()"
   ]
  },
  {
   "cell_type": "code",
   "execution_count": 20,
   "id": "77fb82bc",
   "metadata": {
    "execution": {
     "iopub.execute_input": "2022-02-13T15:02:12.238320Z",
     "iopub.status.busy": "2022-02-13T15:02:12.237693Z",
     "iopub.status.idle": "2022-02-13T15:02:12.247357Z",
     "shell.execute_reply": "2022-02-13T15:02:12.247838Z",
     "shell.execute_reply.started": "2022-02-13T14:48:50.898139Z"
    },
    "papermill": {
     "duration": 0.057515,
     "end_time": "2022-02-13T15:02:12.248076",
     "exception": false,
     "start_time": "2022-02-13T15:02:12.190561",
     "status": "completed"
    },
    "tags": []
   },
   "outputs": [
    {
     "data": {
      "application/javascript": [
       "parent.postMessage({\"jupyterEvent\": \"custom.exercise_interaction\", \"data\": {\"interactionType\": 2, \"questionType\": 1, \"questionId\": \"7_StarRatings\", \"learnToolsVersion\": \"0.3.4\", \"valueTowardsCompletion\": 0.0, \"failureMessage\": \"\", \"exceptionClass\": \"\", \"trace\": \"\", \"outcomeType\": 4}}, \"*\")"
      ],
      "text/plain": [
       "<IPython.core.display.Javascript object>"
      ]
     },
     "metadata": {},
     "output_type": "display_data"
    },
    {
     "data": {
      "text/markdown": [
       "<span style=\"color:#3366cc\">Hint:</span> Begin by writing a custom function that accepts a row from the DataFrame as input and returns the star rating corresponding to the row.  Then, use `DataFrame.apply` to apply the custom function to every row in the dataset."
      ],
      "text/plain": [
       "Hint: Begin by writing a custom function that accepts a row from the DataFrame as input and returns the star rating corresponding to the row.  Then, use `DataFrame.apply` to apply the custom function to every row in the dataset."
      ]
     },
     "metadata": {},
     "output_type": "display_data"
    },
    {
     "data": {
      "application/javascript": [
       "parent.postMessage({\"jupyterEvent\": \"custom.exercise_interaction\", \"data\": {\"interactionType\": 3, \"questionType\": 1, \"questionId\": \"7_StarRatings\", \"learnToolsVersion\": \"0.3.4\", \"valueTowardsCompletion\": 0.0, \"failureMessage\": \"\", \"exceptionClass\": \"\", \"trace\": \"\", \"outcomeType\": 4}}, \"*\")"
      ],
      "text/plain": [
       "<IPython.core.display.Javascript object>"
      ]
     },
     "metadata": {},
     "output_type": "display_data"
    },
    {
     "data": {
      "text/markdown": [
       "<span style=\"color:#33cc99\">Solution:</span> \n",
       "```python\n",
       "def stars(row):\n",
       "    if row.country == 'Canada':\n",
       "        return 3\n",
       "    elif row.points >= 95:\n",
       "        return 3\n",
       "    elif row.points >= 85:\n",
       "        return 2\n",
       "    else:\n",
       "        return 1\n",
       "    \n",
       "star_ratings = reviews.apply(stars, axis='columns')\n",
       "```"
      ],
      "text/plain": [
       "Solution: \n",
       "```python\n",
       "def stars(row):\n",
       "    if row.country == 'Canada':\n",
       "        return 3\n",
       "    elif row.points >= 95:\n",
       "        return 3\n",
       "    elif row.points >= 85:\n",
       "        return 2\n",
       "    else:\n",
       "        return 1\n",
       "    \n",
       "star_ratings = reviews.apply(stars, axis='columns')\n",
       "```"
      ]
     },
     "metadata": {},
     "output_type": "display_data"
    }
   ],
   "source": [
    "q7.hint()\n",
    "q7.solution()"
   ]
  },
  {
   "cell_type": "markdown",
   "id": "6773f1e3",
   "metadata": {
    "papermill": {
     "duration": 0.046941,
     "end_time": "2022-02-13T15:02:12.343079",
     "exception": false,
     "start_time": "2022-02-13T15:02:12.296138",
     "status": "completed"
    },
    "tags": []
   },
   "source": [
    "# Keep going\n",
    "Continue to **[grouping and sorting](https://www.kaggle.com/residentmario/grouping-and-sorting)**."
   ]
  },
  {
   "cell_type": "markdown",
   "id": "c497d120",
   "metadata": {
    "papermill": {
     "duration": 0.046634,
     "end_time": "2022-02-13T15:02:12.437898",
     "exception": false,
     "start_time": "2022-02-13T15:02:12.391264",
     "status": "completed"
    },
    "tags": []
   },
   "source": [
    "---\n",
    "\n",
    "\n",
    "\n",
    "\n",
    "*Have questions or comments? Visit the [course discussion forum](https://www.kaggle.com/learn/pandas/discussion) to chat with other learners.*"
   ]
  }
 ],
 "metadata": {
  "kernelspec": {
   "display_name": "Python 3",
   "language": "python",
   "name": "python3"
  },
  "language_info": {
   "codemirror_mode": {
    "name": "ipython",
    "version": 3
   },
   "file_extension": ".py",
   "mimetype": "text/x-python",
   "name": "python",
   "nbconvert_exporter": "python",
   "pygments_lexer": "ipython3",
   "version": "3.7.12"
  },
  "papermill": {
   "default_parameters": {},
   "duration": 31.90178,
   "end_time": "2022-02-13T15:02:13.398489",
   "environment_variables": {},
   "exception": null,
   "input_path": "__notebook__.ipynb",
   "output_path": "__notebook__.ipynb",
   "parameters": {},
   "start_time": "2022-02-13T15:01:41.496709",
   "version": "2.3.3"
  }
 },
 "nbformat": 4,
 "nbformat_minor": 5
}
